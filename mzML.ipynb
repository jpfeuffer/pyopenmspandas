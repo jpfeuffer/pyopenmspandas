{
 "cells": [
  {
   "metadata": {
    "trusted": true
   },
   "cell_type": "code",
   "source": [
    "from collections import defaultdict\n",
    "from functools import reduce\n",
    "from pathlib import Path\n",
    "from time import perf_counter\n",
    "import sys\n",
    "\n",
    "from IPython.core.display import display\n",
    "from pandas import CategoricalDtype\n",
    "import numpy as np\n",
    "from pyopenms import *\n",
    "import pandas as pd\n",
    "import os"
   ],
   "execution_count": 9,
   "outputs": []
  },
  {
   "metadata": {
    "trusted": true
   },
   "cell_type": "code",
   "source": [
    "from typing import List\n",
    "\n",
    "class MSExperimentDF(MSExperiment):\n",
    "    def __init__(self):\n",
    "        super().__init__()\n",
    "\n",
    "    ## TODO add chromatogram version\n",
    "    ## TODO metadata df?\n",
    "\n",
    "    ## TODO add spectrum_reference, add ion_mobility, add MS level\n",
    "    def to_df(self, melt : bool = False):\n",
    "        if melt:\n",
    "            spectraarr = np.fromiter(((spec.getRT(), point[0], point[1]) for spec in self for point in zip(*spec.get_peaks())), dtype=[('RT', 'f'), ('mz', 'f'), ('inty', 'f')])#, count=sum(s.size() for s in exp))\n",
    "            # Initial tests showed that loading into numpy array first is faster than direct construction from iter.\n",
    "            return pd.DataFrame(data=spectraarr)\n",
    "        else:\n",
    "            cols = [\"RT\", \"mzarray\", \"intarray\"]\n",
    "            return pd.DataFrame(data=((spec.getRT(), *spec.get_peaks()) for spec in self), columns=cols)"
   ],
   "execution_count": 10,
   "outputs": []
  },
  {
   "metadata": {
    "trusted": true
   },
   "cell_type": "code",
   "source": [
    "exp = MSExperimentDF()\n",
    "MzMLFile().load(\"BSA1_F1.mzML\", exp)\n"
   ],
   "execution_count": 11,
   "outputs": []
  },
  {
   "metadata": {
    "trusted": true,
    "pycharm": {
     "name": "#%%\n"
    }
   },
   "cell_type": "code",
   "source": [
    "display(exp.to_df(True))"
   ],
   "execution_count": 12,
   "outputs": [
    {
     "data": {
      "text/plain": "                 RT          mz         inty\n0       1501.413940  300.089752  3431.026123\n1       1501.413940  300.181335  1181.808960\n2       1501.413940  300.202667  1516.174561\n3       1501.413940  300.298279  1719.854736\n4       1501.413940  300.334595  1115.259644\n...             ...         ...          ...\n193055  1999.839111  600.408447   164.921005\n193056  1999.839111  601.383606    45.095955\n193057  1999.839111  607.242554     1.255427\n193058  1999.839111  610.389587    13.149967\n193059  1999.839111  625.548767    15.285479\n\n[193060 rows x 3 columns]",
      "text/html": "<div>\n<style scoped>\n    .dataframe tbody tr th:only-of-type {\n        vertical-align: middle;\n    }\n\n    .dataframe tbody tr th {\n        vertical-align: top;\n    }\n\n    .dataframe thead th {\n        text-align: right;\n    }\n</style>\n<table border=\"1\" class=\"dataframe\">\n  <thead>\n    <tr style=\"text-align: right;\">\n      <th></th>\n      <th>RT</th>\n      <th>mz</th>\n      <th>inty</th>\n    </tr>\n  </thead>\n  <tbody>\n    <tr>\n      <th>0</th>\n      <td>1501.413940</td>\n      <td>300.089752</td>\n      <td>3431.026123</td>\n    </tr>\n    <tr>\n      <th>1</th>\n      <td>1501.413940</td>\n      <td>300.181335</td>\n      <td>1181.808960</td>\n    </tr>\n    <tr>\n      <th>2</th>\n      <td>1501.413940</td>\n      <td>300.202667</td>\n      <td>1516.174561</td>\n    </tr>\n    <tr>\n      <th>3</th>\n      <td>1501.413940</td>\n      <td>300.298279</td>\n      <td>1719.854736</td>\n    </tr>\n    <tr>\n      <th>4</th>\n      <td>1501.413940</td>\n      <td>300.334595</td>\n      <td>1115.259644</td>\n    </tr>\n    <tr>\n      <th>...</th>\n      <td>...</td>\n      <td>...</td>\n      <td>...</td>\n    </tr>\n    <tr>\n      <th>193055</th>\n      <td>1999.839111</td>\n      <td>600.408447</td>\n      <td>164.921005</td>\n    </tr>\n    <tr>\n      <th>193056</th>\n      <td>1999.839111</td>\n      <td>601.383606</td>\n      <td>45.095955</td>\n    </tr>\n    <tr>\n      <th>193057</th>\n      <td>1999.839111</td>\n      <td>607.242554</td>\n      <td>1.255427</td>\n    </tr>\n    <tr>\n      <th>193058</th>\n      <td>1999.839111</td>\n      <td>610.389587</td>\n      <td>13.149967</td>\n    </tr>\n    <tr>\n      <th>193059</th>\n      <td>1999.839111</td>\n      <td>625.548767</td>\n      <td>15.285479</td>\n    </tr>\n  </tbody>\n</table>\n<p>193060 rows × 3 columns</p>\n</div>"
     },
     "metadata": {},
     "output_type": "display_data"
    }
   ]
  },
  {
   "cell_type": "code",
   "execution_count": 13,
   "outputs": [
    {
     "data": {
      "text/plain": "              RT                                            mzarray  \\\n0    1501.413940  [300.0897645621494, 300.18132740129533, 300.20...   \n1    1503.031250  [300.06577092599525, 300.08932376441896, 300.2...   \n2    1504.315186  [300.0655376904414, 300.08949705724626, 300.20...   \n3    1506.103271  [300.08969729528235, 300.14442951270433, 300.1...   \n4    1507.691284  [300.02961474114085, 300.0896262060012, 300.14...   \n..           ...                                                ...   \n762  1996.676147  [206.9207000732422, 239.19674682617188, 253.32...   \n763  1997.912720  [89.19850158691406, 96.14889526367188, 97.1662...   \n764  1998.262329  [136.0441131591797, 140.91648864746094, 142.10...   \n765  1998.608398  [152.00709533691406, 184.16302490234375, 198.2...   \n766  1999.839111  [115.0672607421875, 118.97171020507812, 120.13...   \n\n                                              intarray  \n0    [3431.0261, 1181.809, 1516.1746, 1719.8547, 11...  \n1    [914.79034, 1842.2311, 2395.1025, 851.4738, 16...  \n2    [789.3734, 2810.2341, 1751.1084, 1107.8386, 14...  \n3    [3358.1047, 1391.3488, 2010.7505, 3580.989, 16...  \n4    [1056.8984, 2595.467, 1318.1053, 3188.7034, 13...  \n..                                                 ...  \n762  [6.038003, 1.8395934, 4.4162316, 2.2767653, 9....  \n763  [2.2128685, 1.5487204, 12.895538, 8.870416, 18...  \n764  [8.844822, 10.610469, 48.748848, 2.2722573, 2....  \n765  [4.3010125, 4.11401, 5.2848134, 1.5501136, 16....  \n766  [4.618735, 5.55994, 4.0886707, 1.6936216, 6.44...  \n\n[767 rows x 3 columns]",
      "text/html": "<div>\n<style scoped>\n    .dataframe tbody tr th:only-of-type {\n        vertical-align: middle;\n    }\n\n    .dataframe tbody tr th {\n        vertical-align: top;\n    }\n\n    .dataframe thead th {\n        text-align: right;\n    }\n</style>\n<table border=\"1\" class=\"dataframe\">\n  <thead>\n    <tr style=\"text-align: right;\">\n      <th></th>\n      <th>RT</th>\n      <th>mzarray</th>\n      <th>intarray</th>\n    </tr>\n  </thead>\n  <tbody>\n    <tr>\n      <th>0</th>\n      <td>1501.413940</td>\n      <td>[300.0897645621494, 300.18132740129533, 300.20...</td>\n      <td>[3431.0261, 1181.809, 1516.1746, 1719.8547, 11...</td>\n    </tr>\n    <tr>\n      <th>1</th>\n      <td>1503.031250</td>\n      <td>[300.06577092599525, 300.08932376441896, 300.2...</td>\n      <td>[914.79034, 1842.2311, 2395.1025, 851.4738, 16...</td>\n    </tr>\n    <tr>\n      <th>2</th>\n      <td>1504.315186</td>\n      <td>[300.0655376904414, 300.08949705724626, 300.20...</td>\n      <td>[789.3734, 2810.2341, 1751.1084, 1107.8386, 14...</td>\n    </tr>\n    <tr>\n      <th>3</th>\n      <td>1506.103271</td>\n      <td>[300.08969729528235, 300.14442951270433, 300.1...</td>\n      <td>[3358.1047, 1391.3488, 2010.7505, 3580.989, 16...</td>\n    </tr>\n    <tr>\n      <th>4</th>\n      <td>1507.691284</td>\n      <td>[300.02961474114085, 300.0896262060012, 300.14...</td>\n      <td>[1056.8984, 2595.467, 1318.1053, 3188.7034, 13...</td>\n    </tr>\n    <tr>\n      <th>...</th>\n      <td>...</td>\n      <td>...</td>\n      <td>...</td>\n    </tr>\n    <tr>\n      <th>762</th>\n      <td>1996.676147</td>\n      <td>[206.9207000732422, 239.19674682617188, 253.32...</td>\n      <td>[6.038003, 1.8395934, 4.4162316, 2.2767653, 9....</td>\n    </tr>\n    <tr>\n      <th>763</th>\n      <td>1997.912720</td>\n      <td>[89.19850158691406, 96.14889526367188, 97.1662...</td>\n      <td>[2.2128685, 1.5487204, 12.895538, 8.870416, 18...</td>\n    </tr>\n    <tr>\n      <th>764</th>\n      <td>1998.262329</td>\n      <td>[136.0441131591797, 140.91648864746094, 142.10...</td>\n      <td>[8.844822, 10.610469, 48.748848, 2.2722573, 2....</td>\n    </tr>\n    <tr>\n      <th>765</th>\n      <td>1998.608398</td>\n      <td>[152.00709533691406, 184.16302490234375, 198.2...</td>\n      <td>[4.3010125, 4.11401, 5.2848134, 1.5501136, 16....</td>\n    </tr>\n    <tr>\n      <th>766</th>\n      <td>1999.839111</td>\n      <td>[115.0672607421875, 118.97171020507812, 120.13...</td>\n      <td>[4.618735, 5.55994, 4.0886707, 1.6936216, 6.44...</td>\n    </tr>\n  </tbody>\n</table>\n<p>767 rows × 3 columns</p>\n</div>"
     },
     "metadata": {},
     "output_type": "display_data"
    }
   ],
   "source": [
    "display(exp.to_df(False))"
   ],
   "metadata": {
    "collapsed": false,
    "pycharm": {
     "name": "#%%\n"
    }
   }
  },
  {
   "cell_type": "code",
   "execution_count": null,
   "outputs": [],
   "source": [],
   "metadata": {
    "collapsed": false,
    "pycharm": {
     "name": "#%%\n"
    }
   }
  }
 ],
 "metadata": {
  "kernelspec": {
   "name": "python3",
   "display_name": "Python 3",
   "language": "python"
  },
  "language_info": {
   "name": "python",
   "version": "3.7.10",
   "mimetype": "text/x-python",
   "codemirror_mode": {
    "name": "ipython",
    "version": 3
   },
   "pygments_lexer": "ipython3",
   "nbconvert_exporter": "python",
   "file_extension": ".py"
  }
 },
 "nbformat": 4,
 "nbformat_minor": 1
}