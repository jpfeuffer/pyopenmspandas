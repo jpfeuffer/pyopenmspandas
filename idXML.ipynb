{
 "cells": [
  {
   "metadata": {
    "trusted": true
   },
   "cell_type": "code",
   "source": [
    "from collections import defaultdict\n",
    "from functools import reduce\n",
    "from pathlib import Path\n",
    "from time import perf_counter\n",
    "import sys\n",
    "\n",
    "from IPython.core.display import display\n",
    "from pandas import CategoricalDtype\n",
    "import numpy as np\n",
    "from pyopenms import *\n",
    "import pandas as pd\n",
    "import os"
   ],
   "execution_count": 59,
   "outputs": []
  },
  {
   "metadata": {
    "trusted": true
   },
   "cell_type": "code",
   "source": [
    "from typing import List\n",
    "\n",
    "\n",
    "def peptide_identifications_to_df(peps: List[PeptideIdentification], decode_ontology : bool = True):\n",
    "\n",
    "        switchDictT = {bool: np.bool_, int: np.intc, float: np.float, str: np.byte}\n",
    "        # TODO find a heuristic for length of strings or\n",
    "        #  Especially sequences and spectrum_ids\n",
    "        switchDict = {bool: '?', int: 'i', float: 'f', str: 'U100'}\n",
    "        metavals = []\n",
    "        types = []\n",
    "        mainscorename = \"score\"\n",
    "        for pep in peps:\n",
    "            hits = pep.getHits()\n",
    "            if not len(hits) == 0:\n",
    "                hits[0].getKeys(metavals)\n",
    "                mainscorename = pep.getScoreType()\n",
    "                for k in metavals:\n",
    "                    if k == b\"target_decoy\":\n",
    "                        types.append('?')\n",
    "                    else:\n",
    "                        mv = hits[0].getMetaValue(k)\n",
    "                        types.append(switchDict[type(mv)])\n",
    "                break\n",
    "\n",
    "        # TODO get score type name\n",
    "        decodedMVs = [m.decode(\"utf-8\") for m in metavals] if decode_ontology else metavals\n",
    "        cv = ControlledVocabulary()\n",
    "        cv.loadFromOBO(\"psims\", File.getOpenMSDataPath() + \"/CV/psi-ms.obo\")\n",
    "        clearMVs = [cv.getTerm(m).name if m.startswith(\"MS:\") else m for m in decodedMVs]\n",
    "        #cols = [\"id\", \"RT\", \"mz\", \"score\", \"charge\"] + decodedMVs\n",
    "        clearcols = [\"id\", \"RT\", \"mz\", mainscorename, \"charge\"] + clearMVs\n",
    "        coltypes = ['U100', 'f', 'f', 'f', 'i'] + types\n",
    "        dt = list(zip(clearcols, coltypes))\n",
    "        def extract(pep):\n",
    "            hits = pep.getHits()\n",
    "            if not hits:\n",
    "                return tuple([pep.getIdentifier().encode('utf-8'), pep.getRT(), pep.getMZ(), np.NA, np.NA] + [np.NA]*len(metavals))\n",
    "            else:\n",
    "                besthit = hits[0]\n",
    "                ret = [pep.getIdentifier().encode('utf-8'), pep.getRT(), pep.getMZ(), besthit.getScore(), besthit.getCharge()]\n",
    "                for k in metavals:\n",
    "                    if besthit.metaValueExists(k):\n",
    "                        val = besthit.getMetaValue(k)\n",
    "                        if k == b\"target_decoy\":\n",
    "                            if val[0] == 't':\n",
    "                                ret.append(True)\n",
    "                            else:\n",
    "                                ret.append(False)\n",
    "                        else:\n",
    "                            ret.append(val)\n",
    "                    else:\n",
    "                        ret.append(np.NA)\n",
    "                return tuple(ret)\n",
    "\n",
    "        #TODO implement hasHits function in C++\n",
    "        psmarr = np.fromiter((extract(pep) for pep in peps), dtype=dt, count=len(peps))\n",
    "        #TODO make spectrum_ref the index, if available?\n",
    "        return pd.DataFrame(psmarr)"
   ],
   "execution_count": 60,
   "outputs": []
  },
  {
   "metadata": {
    "trusted": true
   },
   "cell_type": "code",
   "source": [
    "prots = []\n",
    "peps = []\n",
    "IdXMLFile().load(\"MSGFPlusAdapter_1_out.idXML\", prots, peps)\n"
   ],
   "execution_count": 61,
   "outputs": []
  },
  {
   "metadata": {
    "trusted": true,
    "pycharm": {
     "name": "#%%\n"
    }
   },
   "cell_type": "code",
   "source": [
    "display(peptide_identifications_to_df(peps))"
   ],
   "execution_count": 62,
   "outputs": [
    {
     "name": "stderr",
     "output_type": "stream",
     "text": [
      "/Users/pfeuffer/miniconda3/envs/pyopenms_test/lib/python3.7/site-packages/ipykernel_launcher.py:6: DeprecationWarning: `np.float` is a deprecated alias for the builtin `float`. To silence this warning, use `float` by itself. Doing this will not modify any behavior and is safe. If you specifically wanted the numpy scalar type, use `np.float64` here.\n",
      "Deprecated in NumPy 1.20; for more details and guidance: https://numpy.org/devdocs/release/1.20.0-notes.html#deprecations\n",
      "  \n"
     ]
    },
    {
     "data": {
      "text/plain": "                                                id           RT           mz  \\\n0  MS-GF+_2020-05-20T23:45:50_15199737197459537604  4587.668945  1063.209839   \n1  MS-GF+_2020-05-20T23:45:50_15199737197459537604  4923.777344   775.387207   \n2  MS-GF+_2020-05-20T23:45:50_15199737197459537604  2655.095703   520.262817   \n\n     SpecEValue  charge  MS-GF:RawScore  MS-GF:DeNovoScore  MS-GF:SpecEValue  \\\n0  2.349237e-26       3           164.0              199.0      2.349237e-26   \n1  1.624272e-19       3           151.0              188.0      1.624272e-19   \n2  4.652130e-19       3           123.0              125.0      4.652130e-19   \n\n   MS-GF:EValue AssumedDissociationMethod       calcMZ  pass_threshold  start  \\\n0  9.678857e-24                       HCD  1063.209351               1      1   \n1  6.513329e-17                       HCD   775.385437               1      1   \n2  1.637550e-16                       HCD   520.263550               1      1   \n\n   end  target_decoy isotope_error  \n0   28          True             0  \n1   23          True             0  \n2   14          True             0  ",
      "text/html": "<div>\n<style scoped>\n    .dataframe tbody tr th:only-of-type {\n        vertical-align: middle;\n    }\n\n    .dataframe tbody tr th {\n        vertical-align: top;\n    }\n\n    .dataframe thead th {\n        text-align: right;\n    }\n</style>\n<table border=\"1\" class=\"dataframe\">\n  <thead>\n    <tr style=\"text-align: right;\">\n      <th></th>\n      <th>id</th>\n      <th>RT</th>\n      <th>mz</th>\n      <th>SpecEValue</th>\n      <th>charge</th>\n      <th>MS-GF:RawScore</th>\n      <th>MS-GF:DeNovoScore</th>\n      <th>MS-GF:SpecEValue</th>\n      <th>MS-GF:EValue</th>\n      <th>AssumedDissociationMethod</th>\n      <th>calcMZ</th>\n      <th>pass_threshold</th>\n      <th>start</th>\n      <th>end</th>\n      <th>target_decoy</th>\n      <th>isotope_error</th>\n    </tr>\n  </thead>\n  <tbody>\n    <tr>\n      <th>0</th>\n      <td>MS-GF+_2020-05-20T23:45:50_15199737197459537604</td>\n      <td>4587.668945</td>\n      <td>1063.209839</td>\n      <td>2.349237e-26</td>\n      <td>3</td>\n      <td>164.0</td>\n      <td>199.0</td>\n      <td>2.349237e-26</td>\n      <td>9.678857e-24</td>\n      <td>HCD</td>\n      <td>1063.209351</td>\n      <td>1</td>\n      <td>1</td>\n      <td>28</td>\n      <td>True</td>\n      <td>0</td>\n    </tr>\n    <tr>\n      <th>1</th>\n      <td>MS-GF+_2020-05-20T23:45:50_15199737197459537604</td>\n      <td>4923.777344</td>\n      <td>775.387207</td>\n      <td>1.624272e-19</td>\n      <td>3</td>\n      <td>151.0</td>\n      <td>188.0</td>\n      <td>1.624272e-19</td>\n      <td>6.513329e-17</td>\n      <td>HCD</td>\n      <td>775.385437</td>\n      <td>1</td>\n      <td>1</td>\n      <td>23</td>\n      <td>True</td>\n      <td>0</td>\n    </tr>\n    <tr>\n      <th>2</th>\n      <td>MS-GF+_2020-05-20T23:45:50_15199737197459537604</td>\n      <td>2655.095703</td>\n      <td>520.262817</td>\n      <td>4.652130e-19</td>\n      <td>3</td>\n      <td>123.0</td>\n      <td>125.0</td>\n      <td>4.652130e-19</td>\n      <td>1.637550e-16</td>\n      <td>HCD</td>\n      <td>520.263550</td>\n      <td>1</td>\n      <td>1</td>\n      <td>14</td>\n      <td>True</td>\n      <td>0</td>\n    </tr>\n  </tbody>\n</table>\n</div>"
     },
     "metadata": {},
     "output_type": "display_data"
    }
   ]
  }
 ],
 "metadata": {
  "kernelspec": {
   "name": "python3",
   "display_name": "Python 3",
   "language": "python"
  },
  "language_info": {
   "name": "python",
   "version": "3.7.10",
   "mimetype": "text/x-python",
   "codemirror_mode": {
    "name": "ipython",
    "version": 3
   },
   "pygments_lexer": "ipython3",
   "nbconvert_exporter": "python",
   "file_extension": ".py"
  }
 },
 "nbformat": 4,
 "nbformat_minor": 1
}