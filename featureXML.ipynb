{
 "cells": [
  {
   "metadata": {
    "trusted": true
   },
   "cell_type": "code",
   "source": [
    "from collections import defaultdict\n",
    "from functools import reduce\n",
    "from pathlib import Path\n",
    "from time import perf_counter\n",
    "import sys\n",
    "\n",
    "from IPython.core.display import display\n",
    "from pandas import CategoricalDtype\n",
    "import numpy as np\n",
    "from pyopenms import *\n",
    "import pandas as pd\n",
    "import os"
   ],
   "execution_count": 28,
   "outputs": []
  },
  {
   "metadata": {
    "trusted": true
   },
   "cell_type": "code",
   "source": [
    "class FeatureMapDF(FeatureMap):\n",
    "    def __init__(self):\n",
    "        super().__init__()\n",
    "\n",
    "    def get_df(self):\n",
    "        def gen(fmap: FeatureMap, fun):\n",
    "            for f in fmap:\n",
    "                yield from fun(f)\n",
    "\n",
    "        def extractMetaData(f: Feature):\n",
    "            # subfeatures = f.getFeatureList()  # type: list[FeatureHandle]\n",
    "            pep = f.getPeptideIdentifications()  # type: list[PeptideIdentification]\n",
    "            bb = f.getConvexHull().getBoundingBox2D()\n",
    "            if len(pep) != 0:\n",
    "                hits = pep[0].getHits()\n",
    "                if len(hits) != 0:\n",
    "                    besthit = hits[0]  # type: PeptideHit\n",
    "                    # TODO what else\n",
    "                    yield f.getUniqueId(), besthit.getSequence().toString(), f.getCharge(), f.getRT(), f.getMZ(), bb[0][0], bb[1][0], bb[0][1], bb[1][1], f.getOverallQuality(), f.getIntensity()\n",
    "                else:\n",
    "                    yield f.getUniqueId(), None, f.getCharge(), f.getRT(), f.getMZ(), bb[0][0], bb[1][0], bb[0][1], bb[1][1], f.getOverallQuality(), f.getIntensity()\n",
    "            else:\n",
    "                yield f.getUniqueId(), None, f.getCharge(), f.getRT(), f.getMZ(), bb[0][0], bb[1][0], bb[0][1], bb[1][1], f.getOverallQuality(), f.getIntensity()\n",
    "\n",
    "        cnt = self.size()\n",
    "\n",
    "        mddtypes = [('id', np.dtype('uint64')), ('sequence', 'U200'), ('charge', 'i4'), ('RT', 'f'), ('mz', 'f'),\n",
    "                    ('RTstart', 'f'), ('RTend', 'f'), ('mzstart', 'f'), ('mzend', 'f'),\n",
    "                    ('quality', 'f'), ('intensity', 'f')]\n",
    "        mdarr = np.fromiter(iter=gen(self, extractMetaData), dtype=mddtypes, count=cnt)\n",
    "        return pd.DataFrame(mdarr).set_index('id')"
   ],
   "execution_count": 29,
   "outputs": []
  },
  {
   "metadata": {
    "trusted": true
   },
   "cell_type": "code",
   "source": [
    "fmap = FeatureMapDF()\n",
    "from urllib.request import urlretrieve\n",
    "urlretrieve (\"https://raw.githubusercontent.com/OpenMS/OpenMS/develop/share/OpenMS/examples/FRACTIONS/BSA1_F1.featureXML\", \"BSA1.featureXML\")\n",
    "\n",
    "FeatureXMLFile().load(\"BSA1.featureXML\", fmap)\n",
    "    "
   ],
   "execution_count": 30,
   "outputs": []
  },
  {
   "metadata": {
    "trusted": true,
    "pycharm": {
     "name": "#%%\n"
    }
   },
   "cell_type": "code",
   "source": [
    "display(fmap.get_df())"
   ],
   "execution_count": 31,
   "outputs": [
    {
     "data": {
      "text/plain": "                     sequence  charge           RT          mz      RTstart  \\\nid                                                                            \n9650885788371886430      None       2  1942.600098  395.239288  1932.484009   \n18416216708636999474     None       2  1749.138306  443.711212  1735.693115   \n4391849314104099247      None       3  1850.058960  325.491180  1839.522095   \n8826587690601962141      None       1  1977.238281  388.253906  1969.215942   \n446423704489322421       None       2  1901.577637  738.311035  1892.812378   \n...                       ...     ...          ...         ...          ...   \n10302832019150983352     None       3  1606.777588  426.142517  1600.251831   \n8874676592351452214      None       3  1531.052490  403.509857  1525.453247   \n2099235613780550198      None       1  1679.266113  344.091949  1673.871948   \n16983971133852021113     None       1  1542.787109  330.191254  1536.197266   \n11071931317879296440     None       2  1658.548828  485.347015  1651.419067   \n\n                            RTend     mzstart       mzend   quality  \\\nid                                                                    \n9650885788371886430   1950.834351  395.239197  397.245758  0.808494   \n18416216708636999474  1763.343506  443.711121  445.717529  0.893553   \n4391849314104099247   1861.286011  325.491089  326.829010  0.788273   \n8826587690601962141   1985.686523  388.253815  390.261658  0.844645   \n446423704489322421    1911.601929  738.310974  741.317566  0.770521   \n...                           ...         ...         ...       ...   \n10302832019150983352  1614.454712  426.142090  426.477936  0.838608   \n8874676592351452214   1537.609009  403.508728  403.844513  0.806600   \n2099235613780550198   1687.526367  344.091217  345.109222  0.750061   \n16983971133852021113  1548.853760  330.190796  331.186646  0.742557   \n11071931317879296440  1663.232544  485.346741  485.820892  0.842046   \n\n                         intensity  \nid                                  \n9650885788371886430   1.575720e+08  \n18416216708636999474  5.406930e+07  \n4391849314104099247   5.271700e+07  \n8826587690601962141   3.802820e+07  \n446423704489322421    3.498880e+07  \n...                            ...  \n10302832019150983352  3.678150e+04  \n8874676592351452214   3.128000e+04  \n2099235613780550198   3.097710e+04  \n16983971133852021113  2.789520e+04  \n11071931317879296440  2.438280e+04  \n\n[256 rows x 10 columns]",
      "text/html": "<div>\n<style scoped>\n    .dataframe tbody tr th:only-of-type {\n        vertical-align: middle;\n    }\n\n    .dataframe tbody tr th {\n        vertical-align: top;\n    }\n\n    .dataframe thead th {\n        text-align: right;\n    }\n</style>\n<table border=\"1\" class=\"dataframe\">\n  <thead>\n    <tr style=\"text-align: right;\">\n      <th></th>\n      <th>sequence</th>\n      <th>charge</th>\n      <th>RT</th>\n      <th>mz</th>\n      <th>RTstart</th>\n      <th>RTend</th>\n      <th>mzstart</th>\n      <th>mzend</th>\n      <th>quality</th>\n      <th>intensity</th>\n    </tr>\n    <tr>\n      <th>id</th>\n      <th></th>\n      <th></th>\n      <th></th>\n      <th></th>\n      <th></th>\n      <th></th>\n      <th></th>\n      <th></th>\n      <th></th>\n      <th></th>\n    </tr>\n  </thead>\n  <tbody>\n    <tr>\n      <th>9650885788371886430</th>\n      <td>None</td>\n      <td>2</td>\n      <td>1942.600098</td>\n      <td>395.239288</td>\n      <td>1932.484009</td>\n      <td>1950.834351</td>\n      <td>395.239197</td>\n      <td>397.245758</td>\n      <td>0.808494</td>\n      <td>1.575720e+08</td>\n    </tr>\n    <tr>\n      <th>18416216708636999474</th>\n      <td>None</td>\n      <td>2</td>\n      <td>1749.138306</td>\n      <td>443.711212</td>\n      <td>1735.693115</td>\n      <td>1763.343506</td>\n      <td>443.711121</td>\n      <td>445.717529</td>\n      <td>0.893553</td>\n      <td>5.406930e+07</td>\n    </tr>\n    <tr>\n      <th>4391849314104099247</th>\n      <td>None</td>\n      <td>3</td>\n      <td>1850.058960</td>\n      <td>325.491180</td>\n      <td>1839.522095</td>\n      <td>1861.286011</td>\n      <td>325.491089</td>\n      <td>326.829010</td>\n      <td>0.788273</td>\n      <td>5.271700e+07</td>\n    </tr>\n    <tr>\n      <th>8826587690601962141</th>\n      <td>None</td>\n      <td>1</td>\n      <td>1977.238281</td>\n      <td>388.253906</td>\n      <td>1969.215942</td>\n      <td>1985.686523</td>\n      <td>388.253815</td>\n      <td>390.261658</td>\n      <td>0.844645</td>\n      <td>3.802820e+07</td>\n    </tr>\n    <tr>\n      <th>446423704489322421</th>\n      <td>None</td>\n      <td>2</td>\n      <td>1901.577637</td>\n      <td>738.311035</td>\n      <td>1892.812378</td>\n      <td>1911.601929</td>\n      <td>738.310974</td>\n      <td>741.317566</td>\n      <td>0.770521</td>\n      <td>3.498880e+07</td>\n    </tr>\n    <tr>\n      <th>...</th>\n      <td>...</td>\n      <td>...</td>\n      <td>...</td>\n      <td>...</td>\n      <td>...</td>\n      <td>...</td>\n      <td>...</td>\n      <td>...</td>\n      <td>...</td>\n      <td>...</td>\n    </tr>\n    <tr>\n      <th>10302832019150983352</th>\n      <td>None</td>\n      <td>3</td>\n      <td>1606.777588</td>\n      <td>426.142517</td>\n      <td>1600.251831</td>\n      <td>1614.454712</td>\n      <td>426.142090</td>\n      <td>426.477936</td>\n      <td>0.838608</td>\n      <td>3.678150e+04</td>\n    </tr>\n    <tr>\n      <th>8874676592351452214</th>\n      <td>None</td>\n      <td>3</td>\n      <td>1531.052490</td>\n      <td>403.509857</td>\n      <td>1525.453247</td>\n      <td>1537.609009</td>\n      <td>403.508728</td>\n      <td>403.844513</td>\n      <td>0.806600</td>\n      <td>3.128000e+04</td>\n    </tr>\n    <tr>\n      <th>2099235613780550198</th>\n      <td>None</td>\n      <td>1</td>\n      <td>1679.266113</td>\n      <td>344.091949</td>\n      <td>1673.871948</td>\n      <td>1687.526367</td>\n      <td>344.091217</td>\n      <td>345.109222</td>\n      <td>0.750061</td>\n      <td>3.097710e+04</td>\n    </tr>\n    <tr>\n      <th>16983971133852021113</th>\n      <td>None</td>\n      <td>1</td>\n      <td>1542.787109</td>\n      <td>330.191254</td>\n      <td>1536.197266</td>\n      <td>1548.853760</td>\n      <td>330.190796</td>\n      <td>331.186646</td>\n      <td>0.742557</td>\n      <td>2.789520e+04</td>\n    </tr>\n    <tr>\n      <th>11071931317879296440</th>\n      <td>None</td>\n      <td>2</td>\n      <td>1658.548828</td>\n      <td>485.347015</td>\n      <td>1651.419067</td>\n      <td>1663.232544</td>\n      <td>485.346741</td>\n      <td>485.820892</td>\n      <td>0.842046</td>\n      <td>2.438280e+04</td>\n    </tr>\n  </tbody>\n</table>\n<p>256 rows × 10 columns</p>\n</div>"
     },
     "metadata": {},
     "output_type": "display_data"
    }
   ]
  }
 ],
 "metadata": {
  "kernelspec": {
   "name": "python3",
   "display_name": "Python 3",
   "language": "python"
  },
  "language_info": {
   "name": "python",
   "version": "3.7.10",
   "mimetype": "text/x-python",
   "codemirror_mode": {
    "name": "ipython",
    "version": 3
   },
   "pygments_lexer": "ipython3",
   "nbconvert_exporter": "python",
   "file_extension": ".py"
  }
 },
 "nbformat": 4,
 "nbformat_minor": 1
}